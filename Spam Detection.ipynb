{
 "cells": [
  {
   "cell_type": "code",
   "execution_count": 1,
   "id": "b16e177f-d60f-4e05-b398-bc3abacb5917",
   "metadata": {},
   "outputs": [
    {
     "data": {
      "text/html": [
       "<div>\n",
       "<style scoped>\n",
       "    .dataframe tbody tr th:only-of-type {\n",
       "        vertical-align: middle;\n",
       "    }\n",
       "\n",
       "    .dataframe tbody tr th {\n",
       "        vertical-align: top;\n",
       "    }\n",
       "\n",
       "    .dataframe thead th {\n",
       "        text-align: right;\n",
       "    }\n",
       "</style>\n",
       "<table border=\"1\" class=\"dataframe\">\n",
       "  <thead>\n",
       "    <tr style=\"text-align: right;\">\n",
       "      <th></th>\n",
       "      <th>Category</th>\n",
       "      <th>Message</th>\n",
       "    </tr>\n",
       "  </thead>\n",
       "  <tbody>\n",
       "    <tr>\n",
       "      <th>0</th>\n",
       "      <td>ham</td>\n",
       "      <td>Go until jurong point, crazy.. Available only ...</td>\n",
       "    </tr>\n",
       "    <tr>\n",
       "      <th>1</th>\n",
       "      <td>ham</td>\n",
       "      <td>Ok lar... Joking wif u oni...</td>\n",
       "    </tr>\n",
       "    <tr>\n",
       "      <th>2</th>\n",
       "      <td>spam</td>\n",
       "      <td>Free entry in 2 a wkly comp to win FA Cup fina...</td>\n",
       "    </tr>\n",
       "    <tr>\n",
       "      <th>3</th>\n",
       "      <td>ham</td>\n",
       "      <td>U dun say so early hor... U c already then say...</td>\n",
       "    </tr>\n",
       "    <tr>\n",
       "      <th>4</th>\n",
       "      <td>ham</td>\n",
       "      <td>Nah I don't think he goes to usf, he lives aro...</td>\n",
       "    </tr>\n",
       "  </tbody>\n",
       "</table>\n",
       "</div>"
      ],
      "text/plain": [
       "  Category                                            Message\n",
       "0      ham  Go until jurong point, crazy.. Available only ...\n",
       "1      ham                      Ok lar... Joking wif u oni...\n",
       "2     spam  Free entry in 2 a wkly comp to win FA Cup fina...\n",
       "3      ham  U dun say so early hor... U c already then say...\n",
       "4      ham  Nah I don't think he goes to usf, he lives aro..."
      ]
     },
     "execution_count": 1,
     "metadata": {},
     "output_type": "execute_result"
    }
   ],
   "source": [
    "import pandas as pd\n",
    "\n",
    "q = pd.read_csv('mail_data.csv')\n",
    "q.head()"
   ]
  },
  {
   "cell_type": "code",
   "execution_count": 2,
   "id": "368f117d-dc63-41cf-af51-9c4ddac8b233",
   "metadata": {},
   "outputs": [
    {
     "name": "stdout",
     "output_type": "stream",
     "text": [
      "<class 'pandas.core.frame.DataFrame'>\n",
      "RangeIndex: 5572 entries, 0 to 5571\n",
      "Data columns (total 2 columns):\n",
      " #   Column    Non-Null Count  Dtype \n",
      "---  ------    --------------  ----- \n",
      " 0   Category  5572 non-null   object\n",
      " 1   Message   5572 non-null   object\n",
      "dtypes: object(2)\n",
      "memory usage: 87.2+ KB\n"
     ]
    }
   ],
   "source": [
    "q.info()"
   ]
  },
  {
   "cell_type": "code",
   "execution_count": 3,
   "id": "8c007282-6dd1-47ca-a616-9d75f2af4489",
   "metadata": {},
   "outputs": [],
   "source": [
    "q.replace({'Category':{'ham':0,'spam':1}}, inplace = True)"
   ]
  },
  {
   "cell_type": "code",
   "execution_count": 4,
   "id": "7c357ca0-9562-4812-9903-1c368c6079ab",
   "metadata": {},
   "outputs": [
    {
     "data": {
      "text/plain": [
       "(5572, 2)"
      ]
     },
     "execution_count": 4,
     "metadata": {},
     "output_type": "execute_result"
    }
   ],
   "source": [
    "q.shape"
   ]
  },
  {
   "cell_type": "code",
   "execution_count": 5,
   "id": "ae3a86ba-bbc8-4a2f-bc09-73211bc0ab1e",
   "metadata": {},
   "outputs": [
    {
     "data": {
      "text/plain": [
       "0    4825\n",
       "1     747\n",
       "Name: Category, dtype: int64"
      ]
     },
     "execution_count": 5,
     "metadata": {},
     "output_type": "execute_result"
    }
   ],
   "source": [
    "q['Category'].value_counts()"
   ]
  },
  {
   "cell_type": "code",
   "execution_count": 6,
   "id": "f2d3da49-c9eb-4df8-a6f9-408e6fa5da14",
   "metadata": {},
   "outputs": [],
   "source": [
    "X = q['Message']\n",
    "y = q['Category']"
   ]
  },
  {
   "cell_type": "code",
   "execution_count": 7,
   "id": "d3344267-92ae-490a-b8b1-ad46740b2b31",
   "metadata": {},
   "outputs": [],
   "source": [
    "from sklearn.model_selection import train_test_split\n",
    "\n",
    "a,d,s,f = train_test_split(X,y, test_size = 0.2, random_state = 9)"
   ]
  },
  {
   "cell_type": "code",
   "execution_count": 8,
   "id": "028ebfcb-23e0-46b6-a28c-b3c984f16391",
   "metadata": {},
   "outputs": [
    {
     "data": {
      "text/plain": [
       "2036        Simply sitting and watching match in office..\n",
       "3516                     I'm job profile seems like bpo..\n",
       "3134                            So no messages. Had food?\n",
       "4280    URGENT. Important information for 02 user. Tod...\n",
       "5       FreeMsg Hey there darling it's been 3 week's n...\n",
       "                              ...                        \n",
       "5014    Uncle G, just checking up on you. Do have a re...\n",
       "1787    Do you know why god created gap between your f...\n",
       "501     Fighting with the world is easy, u either win ...\n",
       "4444    You know my old Dom I told you about yesterday...\n",
       "382     Yeah sure, give me a couple minutes to track d...\n",
       "Name: Message, Length: 4457, dtype: object"
      ]
     },
     "execution_count": 8,
     "metadata": {},
     "output_type": "execute_result"
    }
   ],
   "source": [
    "a"
   ]
  },
  {
   "cell_type": "code",
   "execution_count": 9,
   "id": "276a130f-90a8-4ad0-999a-27d69027d8fb",
   "metadata": {},
   "outputs": [
    {
     "data": {
      "text/plain": [
       "51      A gram usually runs like  &lt;#&gt; , a half e...\n",
       "1470    7 wonders in My WORLD 7th You 6th Ur style 5th...\n",
       "4564    Come around  &lt;DECIMAL&gt; pm vikky..i'm ots...\n",
       "1854    I just made some payments so dont have that mu...\n",
       "3272    You have 1 new voicemail. Please call 08719181...\n",
       "                              ...                        \n",
       "1275    Let me know how to contact you. I've you settl...\n",
       "287                                                  Ok..\n",
       "2529                     jay says he'll put in  &lt;#&gt;\n",
       "779     Happy New year my dear brother. I really do mi...\n",
       "1195                                        Ok... C ya...\n",
       "Name: Message, Length: 1115, dtype: object"
      ]
     },
     "execution_count": 9,
     "metadata": {},
     "output_type": "execute_result"
    }
   ],
   "source": [
    "d"
   ]
  },
  {
   "cell_type": "code",
   "execution_count": 10,
   "id": "865ac67c-721e-4455-ad8c-dddf8ba5730d",
   "metadata": {},
   "outputs": [
    {
     "name": "stdout",
     "output_type": "stream",
     "text": [
      "(4457,) (4457,) (1115,) (1115,)\n"
     ]
    }
   ],
   "source": [
    "print(a.shape, s.shape, d.shape, f.shape)"
   ]
  },
  {
   "cell_type": "code",
   "execution_count": 11,
   "id": "e27e770a-f065-491f-8b05-4838c3bfa9c6",
   "metadata": {},
   "outputs": [],
   "source": [
    "from sklearn.feature_extraction.text import TfidfVectorizer\n",
    "\n",
    "t = TfidfVectorizer(min_df =1, stop_words = 'english', lowercase = True)"
   ]
  },
  {
   "cell_type": "code",
   "execution_count": 12,
   "id": "05ae744a-add8-4927-91b2-ec24239c67d7",
   "metadata": {},
   "outputs": [],
   "source": [
    "a = t.fit_transform(a)\n",
    "d = t.transform(d)"
   ]
  },
  {
   "cell_type": "code",
   "execution_count": 13,
   "id": "9924085a-ed8d-4e3c-b105-4bf09a8bccb3",
   "metadata": {},
   "outputs": [
    {
     "name": "stdout",
     "output_type": "stream",
     "text": [
      "  (0, 4751)\t0.3995480735031329\n",
      "  (0, 4246)\t0.46853319461766263\n",
      "  (0, 7183)\t0.38811046427357665\n",
      "  (0, 6016)\t0.48487537059673974\n",
      "  (0, 5994)\t0.48487537059673974\n",
      "  (1, 1425)\t0.6117395117581471\n",
      "  (1, 3985)\t0.29337092325522474\n",
      "  (1, 5281)\t0.6117395117581471\n",
      "  (1, 3704)\t0.40679606794582573\n",
      "  (2, 2839)\t0.7071067811865476\n",
      "  (2, 4321)\t0.7071067811865476\n",
      "  (3, 1127)\t0.28704992173361965\n",
      "  (3, 6442)\t0.2711563664312599\n",
      "  (3, 2691)\t0.2745670671412955\n",
      "  (3, 1845)\t0.20742116622566584\n",
      "  (3, 6978)\t0.2922841293900595\n",
      "  (3, 7404)\t0.1948799373403916\n",
      "  (3, 3422)\t0.24739685489219274\n",
      "  (3, 4051)\t0.2680188259240245\n",
      "  (3, 2113)\t0.16610957105957078\n",
      "  (3, 4128)\t0.262409511764221\n",
      "  (3, 6726)\t0.1771628750916276\n",
      "  (3, 6999)\t0.27830306706658076\n",
      "  (3, 8)\t0.2922841293900595\n",
      "  (3, 3551)\t0.2680188259240245\n",
      "  :\t:\n",
      "  (4454, 1792)\t0.18697826514183577\n",
      "  (4454, 2443)\t0.17161518133998263\n",
      "  (4454, 1488)\t0.16954530665822445\n",
      "  (4454, 6114)\t0.21257074773064358\n",
      "  (4454, 7363)\t0.16761829943130407\n",
      "  (4454, 7286)\t0.30137721458705735\n",
      "  (4455, 2336)\t0.39204652784738997\n",
      "  (4455, 5651)\t0.360844745223156\n",
      "  (4455, 7453)\t0.29070539959365477\n",
      "  (4455, 7162)\t0.29070539959365477\n",
      "  (4455, 4633)\t0.22433571591381757\n",
      "  (4455, 6780)\t0.30445204982027557\n",
      "  (4455, 4775)\t0.29070539959365477\n",
      "  (4455, 6735)\t0.24805935441739504\n",
      "  (4455, 3098)\t0.18681902332864916\n",
      "  (4455, 5094)\t0.30445204982027557\n",
      "  (4455, 4288)\t0.23533969908632724\n",
      "  (4455, 3833)\t0.18341579188139398\n",
      "  (4455, 6726)\t0.20345065643996996\n",
      "  (4456, 7147)\t0.5250719855859484\n",
      "  (4456, 6788)\t0.4588381913833921\n",
      "  (4456, 7440)\t0.30819507422443093\n",
      "  (4456, 1980)\t0.4222951138240207\n",
      "  (4456, 6436)\t0.32637060297827974\n",
      "  (4456, 4360)\t0.3659669201671052\n"
     ]
    }
   ],
   "source": [
    "print(a)"
   ]
  },
  {
   "cell_type": "code",
   "execution_count": 14,
   "id": "c292aec8-6372-4108-933a-78459987d544",
   "metadata": {},
   "outputs": [
    {
     "name": "stdout",
     "output_type": "stream",
     "text": [
      "  (0, 7007)\t0.27575306464804655\n",
      "  (0, 5810)\t0.2447749250270012\n",
      "  (0, 5695)\t0.29382844166591665\n",
      "  (0, 4122)\t0.2933357834983407\n",
      "  (0, 3985)\t0.14779130777445093\n",
      "  (0, 3200)\t0.2100686422692192\n",
      "  (0, 3154)\t0.2929681501251352\n",
      "  (0, 3115)\t0.6163513510941001\n",
      "  (0, 3020)\t0.25495444946532553\n",
      "  (0, 2477)\t0.30817567554705005\n",
      "  (1, 7363)\t0.15684369333965079\n",
      "  (1, 7345)\t0.20950345642549728\n",
      "  (1, 6977)\t0.6176187814941599\n",
      "  (1, 6364)\t0.19487782208412452\n",
      "  (1, 6080)\t0.14998676778631465\n",
      "  (1, 6069)\t0.157729714980039\n",
      "  (1, 4997)\t0.20950345642549728\n",
      "  (1, 4566)\t0.1989065709601081\n",
      "  (1, 4449)\t0.13704147500053365\n",
      "  (1, 4102)\t0.18306512971532218\n",
      "  (1, 3083)\t0.10944139546063751\n",
      "  (1, 2911)\t0.17869914860794472\n",
      "  (1, 2124)\t0.12871864364659943\n",
      "  (1, 628)\t0.20950345642549728\n",
      "  (1, 603)\t0.20950345642549728\n",
      "  :\t:\n",
      "  (1110, 1923)\t0.30946000429273907\n",
      "  (1111, 4764)\t1.0\n",
      "  (1112, 5768)\t0.531384885362176\n",
      "  (1112, 4122)\t0.3538603839864588\n",
      "  (1112, 4033)\t0.3445992570586577\n",
      "  (1112, 3671)\t0.5905597191540818\n",
      "  (1112, 3154)\t0.3534168960319472\n",
      "  (1113, 7441)\t0.25764953044493066\n",
      "  (1113, 7309)\t0.3532276726210708\n",
      "  (1113, 6589)\t0.19501696276068003\n",
      "  (1113, 5844)\t0.19352310978438073\n",
      "  (1113, 5450)\t0.2271063863257865\n",
      "  (1113, 4706)\t0.22177667697229972\n",
      "  (1113, 4613)\t0.21051711201529422\n",
      "  (1113, 4369)\t0.23463954640121895\n",
      "  (1113, 3750)\t0.16570647083786832\n",
      "  (1113, 3231)\t0.2264813482920362\n",
      "  (1113, 3230)\t0.31285183230378055\n",
      "  (1113, 3098)\t0.18287546011210587\n",
      "  (1113, 2134)\t0.3048179345381055\n",
      "  (1113, 2124)\t0.21702261000356374\n",
      "  (1113, 1476)\t0.2869513405742843\n",
      "  (1113, 755)\t0.3174944846934284\n",
      "  (1114, 7427)\t0.8297209633609192\n",
      "  (1114, 4764)\t0.5581783970733982\n"
     ]
    }
   ],
   "source": [
    "print(d)"
   ]
  },
  {
   "cell_type": "code",
   "execution_count": 15,
   "id": "7e734285-4f1f-4e2e-88b8-5502579b4dbe",
   "metadata": {},
   "outputs": [],
   "source": [
    "from sklearn.linear_model import LogisticRegression\n",
    "\n",
    "m = LogisticRegression()\n",
    "m.fit(a,s)\n",
    "g = m.predict(d)"
   ]
  },
  {
   "cell_type": "code",
   "execution_count": 16,
   "id": "7cf29c99-9a4f-4ca6-b105-3f03fc84f45e",
   "metadata": {},
   "outputs": [
    {
     "name": "stdout",
     "output_type": "stream",
     "text": [
      "accuracy_score :  0.9650224215246637\n"
     ]
    }
   ],
   "source": [
    "from sklearn.metrics import accuracy_score\n",
    "\n",
    "print('accuracy_score : ',accuracy_score(f,g))"
   ]
  },
  {
   "cell_type": "code",
   "execution_count": 17,
   "id": "4160c373-e529-4c79-ac96-5913d901d20e",
   "metadata": {},
   "outputs": [
    {
     "data": {
      "text/plain": [
       "array([0], dtype=int64)"
      ]
     },
     "execution_count": 17,
     "metadata": {},
     "output_type": "execute_result"
    }
   ],
   "source": [
    "z = [\"FreeMsg Hey there darling it's been 3 week's now and no word back! I'd like some fun you up for it still? Tb ok! XxX std chgs to send, £1.50 to rcv\"]\n",
    "z = t.transform(z)\n",
    "m.predict(z)"
   ]
  },
  {
   "cell_type": "code",
   "execution_count": null,
   "id": "8db24e61-3ec4-4657-a16b-be16734b308a",
   "metadata": {},
   "outputs": [],
   "source": []
  }
 ],
 "metadata": {
  "kernelspec": {
   "display_name": "Python 3 (ipykernel)",
   "language": "python",
   "name": "python3"
  },
  "language_info": {
   "codemirror_mode": {
    "name": "ipython",
    "version": 3
   },
   "file_extension": ".py",
   "mimetype": "text/x-python",
   "name": "python",
   "nbconvert_exporter": "python",
   "pygments_lexer": "ipython3",
   "version": "3.10.5"
  }
 },
 "nbformat": 4,
 "nbformat_minor": 5
}
